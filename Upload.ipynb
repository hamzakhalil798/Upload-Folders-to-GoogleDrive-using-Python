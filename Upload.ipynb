{
 "cells": [
  {
   "cell_type": "markdown",
   "id": "4c902b1c",
   "metadata": {},
   "source": [
    "# Installing Libraries"
   ]
  },
  {
   "cell_type": "code",
   "execution_count": null,
   "id": "7a4779bf",
   "metadata": {},
   "outputs": [],
   "source": [
    "!pip install PyDrive\n",
    "!pip install httplib2==0.15.0\n",
    "!pip install google-api-python-client==1.7.11"
   ]
  },
  {
   "cell_type": "markdown",
   "id": "abfba48a",
   "metadata": {},
   "source": [
    "# Importing Libraries"
   ]
  },
  {
   "cell_type": "code",
   "execution_count": 1,
   "id": "32dda090",
   "metadata": {},
   "outputs": [],
   "source": [
    "import os\n",
    "import tqdm.notebook as tq\n",
    "from pydrive.drive import GoogleDrive\n",
    "from pydrive.auth import GoogleAuth\n",
    "from pydrive.files import GoogleDriveFileList\n",
    "import socket\n",
    "import time"
   ]
  },
  {
   "cell_type": "markdown",
   "id": "117c7943",
   "metadata": {},
   "source": [
    "# Defining Variables"
   ]
  },
  {
   "cell_type": "code",
   "execution_count": 2,
   "id": "4c912592",
   "metadata": {},
   "outputs": [
    {
     "name": "stdout",
     "output_type": "stream",
     "text": [
      "Total files in folder = 8\n"
     ]
    }
   ],
   "source": [
    "src_folder_name =r\"C:\\Users\\DELL\\Desktop\\check\"          #Path to Folder/File to be Uploaded\n",
    "dst_folder_name ='tqdm_upload'                            #Destination Folder in Drive\n",
    "parent_folder_id='1l_Q4OStP4F9QJehRAukxWWaoV3BvQnE3'      ##Parent folder ID on Gdrive  , a new folder {dst_folder_name} will be created inside Parent folder\n",
    "\n",
    "cpt = sum([len(files) for r, d, files in os.walk(src_folder_name)])   #Counting Number of files inside Folder and sub folders , Used for Progress Bar\n",
    "print(f'Total files in folder = {cpt}')\n"
   ]
  },
  {
   "cell_type": "markdown",
   "id": "345aafcd",
   "metadata": {},
   "source": [
    "# Authenticating"
   ]
  },
  {
   "cell_type": "code",
   "execution_count": 3,
   "id": "cbb582da",
   "metadata": {},
   "outputs": [
    {
     "name": "stdout",
     "output_type": "stream",
     "text": [
      "Your browser has been opened to visit:\n",
      "\n",
      "    https://accounts.google.com/o/oauth2/auth?client_id=429743599460-odkn6m66mf952idpqi1okut6tsdnilfh.apps.googleusercontent.com&redirect_uri=http%3A%2F%2Flocalhost%3A8080%2F&scope=https%3A%2F%2Fwww.googleapis.com%2Fauth%2Fdrive&access_type=offline&response_type=code\n",
      "\n",
      "Authentication successful.\n"
     ]
    }
   ],
   "source": [
    "gauth = GoogleAuth()\n",
    "  \n",
    "# Creates local webserver and auto\n",
    "# handles authentication.\n",
    "gauth.LocalWebserverAuth()       \n",
    "drive = GoogleDrive(gauth)\n"
   ]
  },
  {
   "cell_type": "markdown",
   "id": "ba18d2c9",
   "metadata": {},
   "source": [
    "# Defining Helper Functions"
   ]
  },
  {
   "cell_type": "code",
   "execution_count": 4,
   "id": "5314bcc2",
   "metadata": {},
   "outputs": [],
   "source": [
    "def get_folder_id(drive, parent_folder_id, folder_name):\n",
    "    \"\"\" \n",
    "    Check if destination folder exists and return it's ID\n",
    "    :param drive: An instance of GoogleAuth\n",
    "    :param parent_folder_id: the id of the parent of the folder we are uploading the files to\n",
    "    :param folder_name: the name of the folder in the drive \n",
    "    \"\"\"\n",
    "\n",
    "    # Auto-iterate through all files in the parent folder.\n",
    "    file_list = GoogleDriveFileList()\n",
    "    \n",
    "\n",
    "    try:\n",
    "        file_list = drive.ListFile(\n",
    "            {'q': \"'{0}' in parents and trashed=false\".format(parent_folder_id)}\n",
    "                                  ).GetList()\n",
    "\n",
    "    # Exit if the parent folder doesn't exist\n",
    "    except googleapiclient.errors.HttpError as err:\n",
    "        # Parse error message\n",
    "        message = ast.literal_eval(err.content)['error']['message']\n",
    "        if message == 'File not found: ':\n",
    "            print(message + folder_name)\n",
    "            exit(1)\n",
    "        # Exit with stacktrace in case of other error\n",
    "        else:\n",
    "            raise\n",
    "\n",
    "    # Find the the destination folder in the parent folder's files\n",
    "    for file in file_list:\n",
    "        if file['title'] == folder_name:\n",
    "#             print('title: %s, id: %s' % (file['title'], file['id']))\n",
    "            return file['id']\n",
    "\n",
    "\n",
    "\n",
    "def create_folder(drive, folder_name, parent_folder_id):\n",
    "    \"\"\" \n",
    "    Create folder on Google Drive\n",
    "    :param drive: An instance of GoogleAuth\n",
    "    :param folder_id: the id of the folder we are uploading the files to\n",
    "    :param parent_folder_id: the id of the parent of the folder we are uploading the files to\n",
    "    \"\"\"\n",
    "    folder_metadata = {\n",
    "        'title': folder_name,\n",
    "        # Define the file type as folder\n",
    "        'mimeType': 'application/vnd.google-apps.folder',\n",
    "        # ID of the parent folder        \n",
    "        'parents': [{\"kind\": \"drive#fileLink\", \"id\": parent_folder_id}]\n",
    "    }\n",
    "\n",
    "    folder = drive.CreateFile(folder_metadata)\n",
    "    folder.Upload()\n",
    "\n",
    "    # Return folder informations\n",
    "#     print('title: %s, id: %s' % (folder['title'], folder['id']))\n",
    "    return folder['id']\n",
    "\n",
    "\n",
    "\n",
    "\n",
    "\n",
    "def upload_files_in_folder(drive, folder_id, src_folder_name,bar):\n",
    "\n",
    "    \n",
    "    \"\"\" \n",
    "    Recursively upload files from a folder and its subfolders to Google Drive \n",
    "    :param drive: An instance of GoogleAuth\n",
    "    :param folder_id: the id of the folder we are uploading the files to\n",
    "    :param src_folder_name: the path to the source folder to upload\n",
    "    \"\"\"\n",
    "#     print(\"\\n Folder:\", src_folder_name)\n",
    "     \n",
    "    for object_name in os.listdir(src_folder_name):\n",
    "\n",
    "        filepath = src_folder_name+'/'+object_name\n",
    "\n",
    "        # Check the file's size\n",
    "        statinfo = os.stat(filepath)\n",
    "\n",
    "        f = drive.CreateFile(\n",
    "            {\"parents\": [{\"kind\": \"drive#fileLink\", \"id\": folder_id}],\n",
    "            'title': object_name}\n",
    "            )\n",
    "        if os.path.isdir(filepath):\n",
    "\n",
    "            child_folder_id = get_folder_id(drive, folder_id, object_name)\n",
    "\n",
    "            # Create the folder if it doesn't exists\n",
    "            if not child_folder_id:\n",
    "                child_folder_id = create_folder(drive, object_name, folder_id)\n",
    "            else:\n",
    "                print('folder {0} already exists'.format(object_name))\n",
    "\n",
    "\n",
    "            upload_files_in_folder(drive, child_folder_id, filepath,bar)\n",
    "        else:\n",
    "            size=os.path.getsize(filepath)\n",
    "            size_KB=round((size/1000),3)\n",
    "            print(f'Uploading file: {object_name} , size = {size_KB}KB ')\n",
    "\n",
    "            f.SetContentFile(filepath)\n",
    "            \n",
    "            if (size>0) :\n",
    "                try:\n",
    "                    f.Upload()\n",
    "                    bar.update(1)\n",
    "\n",
    "                except:\n",
    "                    print(f' Ran into an issue while uplaoding {object_name} ,  trying again!!!')\n",
    "\n",
    "                    time.sleep(10)\n",
    "                    f.Upload()\n",
    "                    bar.update(1)\n",
    "\n",
    "            else:\n",
    "                print(f'ignoring {object_name} because file is empty ')\n",
    "                bar.update(1)\n",
    "\n"
   ]
  },
  {
   "cell_type": "markdown",
   "id": "94379dad",
   "metadata": {},
   "source": [
    "# Uploading Folders and Files"
   ]
  },
  {
   "cell_type": "code",
   "execution_count": 5,
   "id": "69452f45",
   "metadata": {
    "scrolled": false
   },
   "outputs": [
    {
     "name": "stdout",
     "output_type": "stream",
     "text": [
      "folder tqdm_upload already exists\n"
     ]
    },
    {
     "data": {
      "application/vnd.jupyter.widget-view+json": {
       "model_id": "8362c1c064b1413dafc5c85427df604f",
       "version_major": 2,
       "version_minor": 0
      },
      "text/plain": [
       "  0%|          | 0/8 [00:00<?, ?it/s]"
      ]
     },
     "metadata": {},
     "output_type": "display_data"
    },
    {
     "name": "stdout",
     "output_type": "stream",
     "text": [
      "folder dsd already exists\n",
      "Uploading file: dsd.txt , size = 0.009KB \n",
      "Uploading file: empty.txt , size = 0.0KB \n",
      "ignoring empty.txt because file is empty \n",
      "folder t already exists\n",
      "Uploading file: empty_1.txt , size = 0.0KB \n",
      "ignoring empty_1.txt because file is empty \n",
      "Uploading file: full.txt , size = 0.005KB \n",
      "folder fdas already exists\n",
      "folder dsdasdsa already exists\n",
      "Uploading file: e.txt , size = 0.0KB \n",
      "ignoring e.txt because file is empty \n",
      "Uploading file: f.txt , size = 0.003KB \n",
      "Uploading file: emptyy.txt , size = 0.0KB \n",
      "ignoring emptyy.txt because file is empty \n",
      "Uploading file: full_1.txt , size = 0.005KB \n"
     ]
    }
   ],
   "source": [
    "folder_id = get_folder_id(drive, parent_folder_id, dst_folder_name)\n",
    "    \n",
    "# Create the folder if it doesn't exists\n",
    "if not folder_id:\n",
    "    folder_id = create_folder(drive, dst_folder_name, parent_folder_id)\n",
    "else:\n",
    "    print('folder {0} already exists'.format(dst_folder_name))\n",
    "    \n",
    "bar = tq.tqdm(total=cpt)   #Handles Progress bar  \n",
    "upload_files_in_folder(drive, folder_id, src_folder_name,bar=bar)     #Upload the files   "
   ]
  }
 ],
 "metadata": {
  "kernelspec": {
   "display_name": "Python 3 (ipykernel)",
   "language": "python",
   "name": "python3"
  },
  "language_info": {
   "codemirror_mode": {
    "name": "ipython",
    "version": 3
   },
   "file_extension": ".py",
   "mimetype": "text/x-python",
   "name": "python",
   "nbconvert_exporter": "python",
   "pygments_lexer": "ipython3",
   "version": "3.9.12"
  }
 },
 "nbformat": 4,
 "nbformat_minor": 5
}
